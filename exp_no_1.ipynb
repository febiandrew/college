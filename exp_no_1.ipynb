{
  "cells": [
    {
      "cell_type": "code",
      "execution_count": null,
      "metadata": {
        "colab": {
          "base_uri": "https://localhost:8080/"
        },
        "id": "C3BXwkgZaWJm",
        "outputId": "e9957557-9e01-40a1-bf92-5e904eb2c3fc"
      },
      "outputs": [
        {
          "name": "stdout",
          "output_type": "stream",
          "text": [
            "enter a number:12\n",
            "enter a number12\n",
            "sum of the two numbers: 24\n"
          ]
        }
      ],
      "source": [
        "#addition of two numbers\n",
        "\n",
        "x=int(input(\"enter a number:\"))\n",
        "y=int(input(\"enter a number\"))\n",
        "sum=x+y\n",
        "print(\"sum of the two numbers:\",sum)\n"
      ]
    },
    {
      "cell_type": "code",
      "execution_count": null,
      "metadata": {
        "colab": {
          "base_uri": "https://localhost:8080/"
        },
        "id": "aO0mMC6XbmxD",
        "outputId": "9d3ee6e3-4ef8-480e-c665-431b300991c0"
      },
      "outputs": [
        {
          "name": "stdout",
          "output_type": "stream",
          "text": [
            "Enter a number: 23\n",
            "23 is odd.\n"
          ]
        }
      ],
      "source": [
        "#odd or even\n",
        "\n",
        "number = int(input(\"Enter a number: \"))\n",
        "\n",
        "if number % 2 == 0:\n",
        "    print(f\"{number} is even.\")\n",
        "else:\n",
        "    print(f\"{number} is odd.\")\n",
        "\n"
      ]
    },
    {
      "cell_type": "code",
      "execution_count": null,
      "metadata": {
        "colab": {
          "base_uri": "https://localhost:8080/"
        },
        "id": "dOPVXNeIbunB",
        "outputId": "6515341e-a53f-475a-aafd-fee5667c1256"
      },
      "outputs": [
        {
          "name": "stdout",
          "output_type": "stream",
          "text": [
            "Enter a number: 67\n",
            "67 is a prime number.\n"
          ]
        }
      ],
      "source": [
        "#prime number or not\n",
        "\n",
        "def is_prime(num):\n",
        "    if num <= 1:\n",
        "        return False\n",
        "    for i in range(2, int(num**0.5) + 1):\n",
        "        if num % i == 0:\n",
        "            return False\n",
        "    return True\n",
        "number = int(input(\"Enter a number: \"))\n",
        "if is_prime(number):\n",
        "    print(f\"{number} is a prime number.\")\n",
        "else:\n",
        "    print(f\"{number} is not a prime number.\")"
      ]
    },
    {
      "cell_type": "code",
      "execution_count": null,
      "metadata": {
        "colab": {
          "base_uri": "https://localhost:8080/"
        },
        "id": "VGSZtUrnb0ix",
        "outputId": "3e1c13d7-105c-4795-8fd1-8e68a2a595ee"
      },
      "outputs": [
        {
          "name": "stdout",
          "output_type": "stream",
          "text": [
            "The largest number is: 30\n"
          ]
        }
      ],
      "source": [
        "#largest four numbers\n",
        "\n",
        "a = 10\n",
        "b = 25\n",
        "c = 7\n",
        "d = 30\n",
        "\n",
        "largest = max(a, b, c, d)\n",
        "print(\"The largest number is:\", largest)"
      ]
    },
    {
      "cell_type": "code",
      "execution_count": null,
      "metadata": {
        "colab": {
          "base_uri": "https://localhost:8080/"
        },
        "id": "vAFKDTmZb7Lr",
        "outputId": "a436a9b1-1050-461c-a1d6-5e7ed6684910"
      },
      "outputs": [
        {
          "name": "stdout",
          "output_type": "stream",
          "text": [
            "120\n"
          ]
        }
      ],
      "source": [
        "#factorial of a number\n",
        "\n",
        "def factorial(n):\n",
        "    result = 1\n",
        "    for i in range(2, n + 1):\n",
        "        result *= i\n",
        "    return result\n",
        "print(factorial(5))"
      ]
    },
    {
      "cell_type": "code",
      "execution_count": null,
      "metadata": {
        "colab": {
          "base_uri": "https://localhost:8080/"
        },
        "id": "EqtQ-PdFb_Yp",
        "outputId": "5a72b828-de09-4a2f-f28a-1ecfc0d539ca"
      },
      "outputs": [
        {
          "name": "stdout",
          "output_type": "stream",
          "text": [
            "Original number: 12345\n",
            "Reversed number: 54321\n"
          ]
        }
      ],
      "source": [
        "#reversing numbers\n",
        "\n",
        "def reverse_number(num):\n",
        "    reversed_num = 0\n",
        "    while num > 0:\n",
        "        digit = num % 10\n",
        "        reversed_num = reversed_num * 10 + digit\n",
        "        num = num // 10\n",
        "    return reversed_num\n",
        "\n",
        "number = 12345\n",
        "print(\"Original number:\", number)\n",
        "print(\"Reversed number:\", reverse_number(number))"
      ]
    },
    {
      "cell_type": "code",
      "execution_count": null,
      "metadata": {
        "colab": {
          "base_uri": "https://localhost:8080/"
        },
        "id": "Xbtz3NePcNGj",
        "outputId": "c89320ea-89ef-4fc3-b268-387023d2e28d"
      },
      "outputs": [
        {
          "name": "stdout",
          "output_type": "stream",
          "text": [
            "enter sequence: 67\n",
            "not a palindrome\n"
          ]
        }
      ],
      "source": [
        "#given string is a palindrome or not\n",
        "\n",
        "a = input(\"enter sequence: \")\n",
        "b = a[::-1]\n",
        "if b == a:\n",
        "    print(\"it is a palindrome\")\n",
        "else:\n",
        "    print(\"not a palindrome\")"
      ]
    },
    {
      "cell_type": "code",
      "execution_count": null,
      "metadata": {
        "colab": {
          "base_uri": "https://localhost:8080/"
        },
        "id": "uTZj6ygMcZvb",
        "outputId": "a8814126-b299-41b7-da80-fb80c5c8c1f9"
      },
      "outputs": [
        {
          "name": "stdout",
          "output_type": "stream",
          "text": [
            "enter the number: 67\n",
            "7\n",
            "13\n"
          ]
        }
      ],
      "source": [
        "#sum of digits of given number\n",
        "\n",
        "a = int(input(\"enter the number: \"))\n",
        "q = 0\n",
        "b = str(a)\n",
        "for i in range(len(b)):\n",
        "  c=0\n",
        "  c=a%10\n",
        "  a=a//10\n",
        "  q+=c\n",
        "  print(q)"
      ]
    },
    {
      "cell_type": "code",
      "execution_count": null,
      "metadata": {
        "colab": {
          "background_save": true,
          "base_uri": "https://localhost:8080/"
        },
        "id": "jXoUK6crcfFD",
        "outputId": "3bf0aa52-3184-4d0f-fccf-aec4fae1ba41"
      },
      "outputs": [
        {
          "name": "stdout",
          "output_type": "stream",
          "text": [
            "Simple Calculator\n",
            "Select operation:\n",
            "1. Add\n",
            "2. Subtract\n",
            "3. Multiply\n",
            "4. Divide\n"
          ]
        }
      ],
      "source": [
        "#simple calculator\n",
        "\n",
        "def calculator():\n",
        "    print(\"Simple Calculator\")\n",
        "    print(\"Select operation:\")\n",
        "    print(\"1. Add\")\n",
        "    print(\"2. Subtract\")\n",
        "    print(\"3. Multiply\")\n",
        "    print(\"4. Divide\")\n",
        "\n",
        "    choice = input(\"Enter choice (1/2/3/4): \")\n",
        "\n",
        "    if choice in ['1', '2', '3', '4']:\n",
        "        num1 = float(input(\"Enter first number: \"))\n",
        "        num2 = float(input(\"Enter second number: \"))\n",
        "\n",
        "        if choice == '1':\n",
        "            print(f\"{num1} + {num2} = {num1 + num2}\")\n",
        "\n",
        "        elif choice == '2':\n",
        "            print(f\"{num1} - {num2} = {num1 - num2}\")\n",
        "\n",
        "        elif choice == '3':\n",
        "            print(f\"{num1} * {num2} = {num1 * num2}\")\n",
        "\n",
        "        elif choice == '4':\n",
        "            if num2 != 0:\n",
        "                print(f\"{num1} / {num2} = {num1 / num2}\")\n",
        "            else:\n",
        "                print(\"Error: Cannot divide by zero.\")\n",
        "\n",
        "    else:\n",
        "        print(\"Invalid input\")\n",
        "\n",
        "calculator()\n"
      ]
    },
    {
      "cell_type": "code",
      "execution_count": null,
      "metadata": {
        "id": "SSMfT00ohos6",
        "colab": {
          "base_uri": "https://localhost:8080/"
        },
        "outputId": "03a5e12a-83a0-498c-beef-00c6b50be144"
      },
      "outputs": [
        {
          "output_type": "stream",
          "name": "stdout",
          "text": [
            "\n",
            "\n",
            "\n",
            "*\n",
            "\n",
            "\n",
            "**\n",
            "\n",
            "\n",
            "***\n",
            "\n",
            "\n",
            "****\n",
            "\n",
            "\n",
            "*****\n",
            "\n",
            "\n"
          ]
        }
      ],
      "source": [
        "#pattern with *\n",
        "\n",
        "for i in range(6):\n",
        "  print(i*\"*\")\n",
        "  print(\"\\n\")"
      ]
    }
  ],
  "metadata": {
    "colab": {
      "provenance": []
    },
    "kernelspec": {
      "display_name": "Python 3",
      "name": "python3"
    },
    "language_info": {
      "name": "python"
    }
  },
  "nbformat": 4,
  "nbformat_minor": 0
}
